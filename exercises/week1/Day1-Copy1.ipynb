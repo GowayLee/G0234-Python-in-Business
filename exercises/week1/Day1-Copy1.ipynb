{
 "cells": [
  {
   "cell_type": "code",
   "execution_count": null,
   "id": "6404974d-8fa9-4ded-aaad-cb855ed59a79",
   "metadata": {},
   "outputs": [],
   "source": [
    "language=\"python\""
   ]
  },
  {
   "cell_type": "code",
   "execution_count": null,
   "id": "fccd3d83-1f50-4d80-b6a9-482c2a18458e",
   "metadata": {},
   "outputs": [],
   "source": [
    "print(\"I am learning\",language)"
   ]
  },
  {
   "cell_type": "code",
   "execution_count": null,
   "id": "32fec046-e946-4b79-85fc-693d1369694a",
   "metadata": {},
   "outputs": [],
   "source": []
  },
  {
   "cell_type": "code",
   "execution_count": 1,
   "id": "33a1466c-4742-487e-8f60-deffb33ac091",
   "metadata": {},
   "outputs": [
    {
     "name": "stdout",
     "output_type": "stream",
     "text": [
      "     *     \n",
      "    ***    \n",
      "   *****   \n",
      "    ***  \n",
      "   *****   \n",
      "  *******  \n",
      "    ***  \n",
      "    ***  \n",
      "    ***  \n",
      "\n"
     ]
    }
   ],
   "source": [
    "print(\"     *     \\n    ***    \\n   *****   \\n    ***  \\n   *****   \\n  *******  \\n    ***  \\n    ***  \\n    ***  \\n\")"
   ]
  },
  {
   "cell_type": "code",
   "execution_count": 31,
   "id": "970fe10b-f0f7-4b37-b6c2-f81c3e250373",
   "metadata": {},
   "outputs": [
    {
     "name": "stdout",
     "output_type": "stream",
     "text": [
      " =============================\n",
      "        Feb 2025 \n",
      " =============================\n",
      "   SUN MON TUE WED TUR FRI SAT  \n",
      "\n",
      "   \n",
      "\n",
      "    ***    \n",
      "\n",
      "    ***    \n",
      "\n"
     ]
    }
   ],
   "source": [
    "print(\" =============================\")\n",
    "print(\"        Feb 2025 \")\n",
    "print(\" =============================\")\n",
    "print(\"   SUN MON TUE WED TUR FRI SAT  \\n\")\n",
    "print(\"   \\n\")\n",
    "print(\"    ***    \")\n",
    "print(\"    ***    \")"
   ]
  },
  {
   "cell_type": "code",
   "execution_count": 3,
   "id": "5c75023e-6254-4e8e-8006-67f5d1696dc3",
   "metadata": {},
   "outputs": [],
   "source": [
    "weight=60"
   ]
  },
  {
   "cell_type": "code",
   "execution_count": 4,
   "id": "4c2daeb8-c970-4b62-85e8-5fda9694cc07",
   "metadata": {},
   "outputs": [],
   "source": [
    "height=1.7"
   ]
  },
  {
   "cell_type": "code",
   "execution_count": 27,
   "id": "a0849ddc-9a65-4e60-ab15-18fee2437494",
   "metadata": {},
   "outputs": [],
   "source": [
    "BMI=weight/(height**2)"
   ]
  },
  {
   "cell_type": "code",
   "execution_count": 29,
   "id": "33c5050f-492f-449c-8a7c-8f6316d4052d",
   "metadata": {},
   "outputs": [
    {
     "name": "stdout",
     "output_type": "stream",
     "text": [
      "BMI: 20.761245674740486\n"
     ]
    }
   ],
   "source": [
    "print(\"BMI:\",BMI)"
   ]
  },
  {
   "cell_type": "code",
   "execution_count": 33,
   "id": "5621f007-d1f5-479e-85af-e8db77412bae",
   "metadata": {},
   "outputs": [],
   "source": [
    "a=1\n",
    "b=1.1\n",
    "c=2+4j"
   ]
  },
  {
   "cell_type": "code",
   "execution_count": 35,
   "id": "b7a402bc-aeca-409b-830f-5752af57f945",
   "metadata": {},
   "outputs": [
    {
     "name": "stdout",
     "output_type": "stream",
     "text": [
      "Type of a <class 'int'>\n",
      "Type of b <class 'float'>\n",
      "Type of c <class 'complex'>\n"
     ]
    }
   ],
   "source": [
    "print(\"Type of a\",type(a))\n",
    "print(\"Type of b\",type(b))\n",
    "print(\"Type of c\",type(c))"
   ]
  },
  {
   "cell_type": "code",
   "execution_count": 47,
   "id": "b3dc507d-246b-48e5-b3ff-3ac6ce08c819",
   "metadata": {},
   "outputs": [],
   "source": [
    "company_name=\"Itchart\"\n",
    "total_budget=678936.56\n",
    "rent_expense=70000.66\n",
    "salary_expence=4355.767\n",
    "marketing_expence=42357.99\n",
    "remain_budget=total_budget-rent_expense-salary_expence-marketing_expence\n"
   ]
  },
  {
   "cell_type": "code",
   "execution_count": 51,
   "id": "b73228d3-570c-4a02-8505-6b9d822df127",
   "metadata": {},
   "outputs": [
    {
     "name": "stdout",
     "output_type": "stream",
     "text": [
      "Company name: Itchart \n",
      "Total budget: 678936.56 $\n",
      "Rent expense: 70000.66 $\n",
      "Salary expence: 4355.767 $\n",
      "Marketing expence: 42357.99 $\n",
      "Remain budget: 562222.143 $\n"
     ]
    }
   ],
   "source": [
    "print(\"Company name:\",company_name,\"\\nTotal budget:\",total_budget,\"$\\nRent expense:\",rent_expense,\"$\\nSalary expence:\",salary_expence,\"$\\nMarketing expence:\",marketing_expence,\"$\\nRemain budget:\",remain_budget,\"$\")"
   ]
  },
  {
   "cell_type": "code",
   "execution_count": null,
   "id": "fde05d8a-2a45-4941-b1a2-4b516f2fd5d4",
   "metadata": {},
   "outputs": [],
   "source": []
  },
  {
   "cell_type": "code",
   "execution_count": null,
   "id": "7a68b2e7-5d50-4862-9479-b7f4883c16f1",
   "metadata": {},
   "outputs": [],
   "source": []
  },
  {
   "cell_type": "code",
   "execution_count": null,
   "id": "68c98c10-9dc1-4e8c-b800-3fa71217cb8f",
   "metadata": {},
   "outputs": [],
   "source": []
  },
  {
   "cell_type": "code",
   "execution_count": null,
   "id": "05019c15-d8e5-4115-bbef-8552e4a98ffb",
   "metadata": {},
   "outputs": [],
   "source": []
  },
  {
   "cell_type": "code",
   "execution_count": null,
   "id": "68e9656a-eb56-43ff-be20-253b43cdf7cd",
   "metadata": {},
   "outputs": [],
   "source": []
  }
 ],
 "metadata": {
  "kernelspec": {
   "display_name": "Python 3 (ipykernel)",
   "language": "python",
   "name": "python3"
  },
  "language_info": {
   "codemirror_mode": {
    "name": "ipython",
    "version": 3
   },
   "file_extension": ".py",
   "mimetype": "text/x-python",
   "name": "python",
   "nbconvert_exporter": "python",
   "pygments_lexer": "ipython3",
   "version": "3.12.3"
  }
 },
 "nbformat": 4,
 "nbformat_minor": 5
}
